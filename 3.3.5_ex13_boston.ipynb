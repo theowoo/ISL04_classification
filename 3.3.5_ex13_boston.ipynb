{
 "cells": [
  {
   "cell_type": "markdown",
   "metadata": {
    "toc": true
   },
   "source": [
    "<h1>Table of Contents<span class=\"tocSkip\"></span></h1>\n",
    "<div class=\"toc\"><ul class=\"toc-item\"><li><span><a href=\"#Exercise-13\" data-toc-modified-id=\"Exercise-13-1\">Exercise 13</a></span></li><li><span><a href=\"#Train-test-split-(3:1)\" data-toc-modified-id=\"Train-test-split-(3:1)-2\">Train-test split (3:1)</a></span></li><li><span><a href=\"#Use-p-values-to-order-predictor-subsetting\" data-toc-modified-id=\"Use-p-values-to-order-predictor-subsetting-3\">Use p-values to order predictor subsetting</a></span></li><li><span><a href=\"#Plot-decision-boundary\" data-toc-modified-id=\"Plot-decision-boundary-4\">Plot decision boundary</a></span></li></ul></div>"
   ]
  },
  {
   "cell_type": "markdown",
   "metadata": {},
   "source": [
    "# Exercise 13\n",
    "##### Using the Boston data set, ﬁt classiﬁcation models in order to predict whether a given suburb has a crime rate above or below the median. Explore logistic regression, LDA, and KNN models using various subsets of the predictors. Describe your ﬁndings."
   ]
  },
  {
   "cell_type": "code",
   "execution_count": 1,
   "metadata": {
    "ExecuteTime": {
     "end_time": "2018-07-30T18:10:01.149186Z",
     "start_time": "2018-07-30T18:09:59.299340Z"
    }
   },
   "outputs": [],
   "source": [
    "import numpy as np\n",
    "import matplotlib.pyplot as plt\n",
    "import matplotlib.cm as cm\n",
    "import seaborn as sns\n",
    "import pandas as pd\n",
    "sns.set_context('notebook')\n",
    "sns.set_palette('bone')\n",
    "from sklearn.datasets import load_boston\n",
    "from sklearn.model_selection import train_test_split\n",
    "from sklearn.linear_model import LogisticRegression\n",
    "from sklearn.discriminant_analysis import LinearDiscriminantAnalysis, QuadraticDiscriminantAnalysis\n",
    "from sklearn.neighbors import KNeighborsClassifier\n",
    "import statsmodels.api as sm"
   ]
  },
  {
   "cell_type": "code",
   "execution_count": 2,
   "metadata": {
    "ExecuteTime": {
     "end_time": "2018-07-30T18:10:01.204688Z",
     "start_time": "2018-07-30T18:10:01.151708Z"
    }
   },
   "outputs": [
    {
     "data": {
      "text/html": [
       "<div>\n",
       "<style scoped>\n",
       "    .dataframe tbody tr th:only-of-type {\n",
       "        vertical-align: middle;\n",
       "    }\n",
       "\n",
       "    .dataframe tbody tr th {\n",
       "        vertical-align: top;\n",
       "    }\n",
       "\n",
       "    .dataframe thead th {\n",
       "        text-align: right;\n",
       "    }\n",
       "</style>\n",
       "<table border=\"1\" class=\"dataframe\">\n",
       "  <thead>\n",
       "    <tr style=\"text-align: right;\">\n",
       "      <th></th>\n",
       "      <th>CRIM</th>\n",
       "      <th>ZN</th>\n",
       "      <th>INDUS</th>\n",
       "      <th>CHAS</th>\n",
       "      <th>NOX</th>\n",
       "      <th>RM</th>\n",
       "      <th>AGE</th>\n",
       "      <th>DIS</th>\n",
       "      <th>RAD</th>\n",
       "      <th>TAX</th>\n",
       "      <th>PTRATIO</th>\n",
       "      <th>B</th>\n",
       "      <th>LSTAT</th>\n",
       "      <th>PRICE</th>\n",
       "    </tr>\n",
       "  </thead>\n",
       "  <tbody>\n",
       "    <tr>\n",
       "      <th>0</th>\n",
       "      <td>0</td>\n",
       "      <td>18.0</td>\n",
       "      <td>2.31</td>\n",
       "      <td>0.0</td>\n",
       "      <td>0.538</td>\n",
       "      <td>6.575</td>\n",
       "      <td>65.2</td>\n",
       "      <td>4.0900</td>\n",
       "      <td>1.0</td>\n",
       "      <td>296.0</td>\n",
       "      <td>15.3</td>\n",
       "      <td>396.90</td>\n",
       "      <td>4.98</td>\n",
       "      <td>24.0</td>\n",
       "    </tr>\n",
       "    <tr>\n",
       "      <th>1</th>\n",
       "      <td>0</td>\n",
       "      <td>0.0</td>\n",
       "      <td>7.07</td>\n",
       "      <td>0.0</td>\n",
       "      <td>0.469</td>\n",
       "      <td>6.421</td>\n",
       "      <td>78.9</td>\n",
       "      <td>4.9671</td>\n",
       "      <td>2.0</td>\n",
       "      <td>242.0</td>\n",
       "      <td>17.8</td>\n",
       "      <td>396.90</td>\n",
       "      <td>9.14</td>\n",
       "      <td>21.6</td>\n",
       "    </tr>\n",
       "    <tr>\n",
       "      <th>2</th>\n",
       "      <td>0</td>\n",
       "      <td>0.0</td>\n",
       "      <td>7.07</td>\n",
       "      <td>0.0</td>\n",
       "      <td>0.469</td>\n",
       "      <td>7.185</td>\n",
       "      <td>61.1</td>\n",
       "      <td>4.9671</td>\n",
       "      <td>2.0</td>\n",
       "      <td>242.0</td>\n",
       "      <td>17.8</td>\n",
       "      <td>392.83</td>\n",
       "      <td>4.03</td>\n",
       "      <td>34.7</td>\n",
       "    </tr>\n",
       "    <tr>\n",
       "      <th>3</th>\n",
       "      <td>0</td>\n",
       "      <td>0.0</td>\n",
       "      <td>2.18</td>\n",
       "      <td>0.0</td>\n",
       "      <td>0.458</td>\n",
       "      <td>6.998</td>\n",
       "      <td>45.8</td>\n",
       "      <td>6.0622</td>\n",
       "      <td>3.0</td>\n",
       "      <td>222.0</td>\n",
       "      <td>18.7</td>\n",
       "      <td>394.63</td>\n",
       "      <td>2.94</td>\n",
       "      <td>33.4</td>\n",
       "    </tr>\n",
       "    <tr>\n",
       "      <th>4</th>\n",
       "      <td>0</td>\n",
       "      <td>0.0</td>\n",
       "      <td>2.18</td>\n",
       "      <td>0.0</td>\n",
       "      <td>0.458</td>\n",
       "      <td>7.147</td>\n",
       "      <td>54.2</td>\n",
       "      <td>6.0622</td>\n",
       "      <td>3.0</td>\n",
       "      <td>222.0</td>\n",
       "      <td>18.7</td>\n",
       "      <td>396.90</td>\n",
       "      <td>5.33</td>\n",
       "      <td>36.2</td>\n",
       "    </tr>\n",
       "  </tbody>\n",
       "</table>\n",
       "</div>"
      ],
      "text/plain": [
       "   CRIM    ZN  INDUS  CHAS    NOX     RM   AGE     DIS  RAD    TAX  PTRATIO  \\\n",
       "0     0  18.0   2.31   0.0  0.538  6.575  65.2  4.0900  1.0  296.0     15.3   \n",
       "1     0   0.0   7.07   0.0  0.469  6.421  78.9  4.9671  2.0  242.0     17.8   \n",
       "2     0   0.0   7.07   0.0  0.469  7.185  61.1  4.9671  2.0  242.0     17.8   \n",
       "3     0   0.0   2.18   0.0  0.458  6.998  45.8  6.0622  3.0  222.0     18.7   \n",
       "4     0   0.0   2.18   0.0  0.458  7.147  54.2  6.0622  3.0  222.0     18.7   \n",
       "\n",
       "        B  LSTAT  PRICE  \n",
       "0  396.90   4.98   24.0  \n",
       "1  396.90   9.14   21.6  \n",
       "2  392.83   4.03   34.7  \n",
       "3  394.63   2.94   33.4  \n",
       "4  396.90   5.33   36.2  "
      ]
     },
     "execution_count": 2,
     "metadata": {},
     "output_type": "execute_result"
    }
   ],
   "source": [
    "boston = load_boston()\n",
    "data = pd.DataFrame(boston.data, columns=boston.feature_names)\n",
    "data['PRICE'] = boston.target\n",
    "data.CRIM = (data.CRIM > data.CRIM.median()).astype(int)\n",
    "data.head()"
   ]
  },
  {
   "cell_type": "markdown",
   "metadata": {},
   "source": [
    "# Train-test split (3:1)"
   ]
  },
  {
   "cell_type": "code",
   "execution_count": 3,
   "metadata": {
    "ExecuteTime": {
     "end_time": "2018-07-30T18:10:01.212617Z",
     "start_time": "2018-07-30T18:10:01.206786Z"
    }
   },
   "outputs": [
    {
     "name": "stdout",
     "output_type": "stream",
     "text": [
      "Training set size: 379\n",
      "Testing set size: 127\n"
     ]
    }
   ],
   "source": [
    "X_train, X_test, y_train, y_test = train_test_split(data.drop(columns='CRIM'), data.CRIM, test_size=0.25)\n",
    "print('Training set size:', len(X_train))\n",
    "print('Testing set size:', len(X_test))"
   ]
  },
  {
   "cell_type": "markdown",
   "metadata": {},
   "source": [
    "# Use p-values to order predictor subsetting"
   ]
  },
  {
   "cell_type": "code",
   "execution_count": 4,
   "metadata": {
    "ExecuteTime": {
     "end_time": "2018-07-30T18:10:01.335911Z",
     "start_time": "2018-07-30T18:10:01.304476Z"
    }
   },
   "outputs": [
    {
     "name": "stdout",
     "output_type": "stream",
     "text": [
      "ZN         6.200471e-02\n",
      "INDUS      4.641593e-01\n",
      "CHAS       7.786013e-01\n",
      "NOX        1.565124e-08\n",
      "RM         2.868218e-01\n",
      "AGE        3.837842e-03\n",
      "DIS        5.488624e-01\n",
      "RAD        4.675742e-07\n",
      "TAX        8.677999e-02\n",
      "PTRATIO    1.168299e-01\n",
      "B          2.641507e-02\n",
      "LSTAT      9.789268e-01\n",
      "PRICE      5.477655e-02\n",
      "dtype: float64\n"
     ]
    }
   ],
   "source": [
    "glm = sm.GLM(y_train, X_train).fit()\n",
    "print(glm.pvalues)\n",
    "\n",
    "# Sorted predictors by statistical significance\n",
    "predictors_list = list(glm.pvalues[1:].index[np.argsort(glm.pvalues[1:])])"
   ]
  },
  {
   "cell_type": "code",
   "execution_count": 5,
   "metadata": {
    "ExecuteTime": {
     "end_time": "2018-07-30T18:10:01.893607Z",
     "start_time": "2018-07-30T18:10:01.361802Z"
    }
   },
   "outputs": [
    {
     "data": {
      "image/png": "[encoded data removed]",
      "text/plain": [
       "<Figure size 864x648 with 2 Axes>"
      ]
     },
     "metadata": {},
     "output_type": "display_data"
    }
   ],
   "source": [
    "# Size of neighbourhood to test\n",
    "knlist = [1, 2, 4, 8, 16, 32]\n",
    "clf_list = ['LogReg', 'LDA', 'QDA'] + ['KNN-'+str(kn) for kn in knlist]\n",
    "\n",
    "accuracy_mat = np.zeros((len(predictors_list), len(clf_list)))\n",
    "precision_mat = np.zeros((len(predictors_list), len(clf_list)))\n",
    "predictors = []\n",
    "\n",
    "for i, pred in enumerate(predictors_list):\n",
    "    \n",
    "    predictors += [pred]  # cumulative list o predictors\n",
    "    X_subset_train = X_train.filter(predictors).values.reshape(-1,len(predictors))\n",
    "    X_subset_test = X_test.filter(predictors).values.reshape(-1,len(predictors))\n",
    "        \n",
    "    for j, clf in enumerate([LogisticRegression(), LinearDiscriminantAnalysis(), QuadraticDiscriminantAnalysis()] + [KNeighborsClassifier(kn) for kn in knlist]):\n",
    "        clf.fit(X_subset_train, y_train)\n",
    "        prediction = clf.predict(X_subset_test)\n",
    "        accuracy_mat[i,j] = np.count_nonzero(prediction==y_test)/len(X_test)\n",
    "        precision_mat[i,j] = np.count_nonzero(prediction==y_test)/len(X_test)\n",
    "        \n",
    "fig, ax = plt.subplots(figsize=(12,9))\n",
    "imax = ax.imshow(accuracy_mat)\n",
    "cax = fig.colorbar(imax)\n",
    "cax.set_label('Accuracy')\n",
    "ax.set_yticks(np.arange(len(predictors_list)))\n",
    "ax.set_yticklabels(predictors_list)\n",
    "ax.set_ylabel('Additional predictor (top to bottom)')\n",
    "ax.set_xticks(np.arange(len(clf_list)))\n",
    "ax.set_xticklabels(clf_list)\n",
    "ax.set_xlabel('Classification method')\n",
    "plt.show()"
   ]
  },
  {
   "cell_type": "markdown",
   "metadata": {},
   "source": [
    "##### Using KNN with small neighbourhood, NOX (nitric oxides concentration (parts per 10 million)) and RAD (index of accessibility to radial highways) predicts CRIM (per capita crime rate by town) very well"
   ]
  },
  {
   "cell_type": "code",
   "execution_count": 6,
   "metadata": {
    "ExecuteTime": {
     "end_time": "2018-07-30T18:10:02.895595Z",
     "start_time": "2018-07-30T18:10:02.889381Z"
    }
   },
   "outputs": [
    {
     "name": "stdout",
     "output_type": "stream",
     "text": [
      "Training set size: 379\n",
      "Testing set size: 127\n"
     ]
    }
   ],
   "source": [
    "X = data.filter(['NOX', 'RAD'])\n",
    "y = data.CRIM\n",
    "\n",
    "X_train, X_test, y_train, y_test = train_test_split(X, y, test_size=0.25)\n",
    "print('Training set size:', len(X_train))\n",
    "print('Testing set size:', len(X_test))"
   ]
  },
  {
   "cell_type": "markdown",
   "metadata": {},
   "source": [
    "# Plot decision boundary"
   ]
  },
  {
   "cell_type": "code",
   "execution_count": 7,
   "metadata": {
    "ExecuteTime": {
     "end_time": "2018-07-30T18:10:04.008290Z",
     "start_time": "2018-07-30T18:10:04.003820Z"
    }
   },
   "outputs": [],
   "source": [
    "def make_mesh(x, step_size=0.1, dim=2):\n",
    "    '''Make mesh grid out of the first 2 predictors.\n",
    "    x : feature matrix'''\n",
    "    import numpy as np\n",
    "    x_min = np.min(x, axis=0)\n",
    "    x_max = np.max(x, axis=0)\n",
    "    x_samples = [np.arange(mi - step_size, ma + step_size, step_size)\n",
    "                 for mi, ma in zip(x_min, x_max)]\n",
    "    x_mesh = np.stack(np.meshgrid(*x_samples[:dim]), axis=-1)\n",
    "    return x_mesh"
   ]
  },
  {
   "cell_type": "code",
   "execution_count": 8,
   "metadata": {
    "ExecuteTime": {
     "end_time": "2018-07-30T18:10:04.351368Z",
     "start_time": "2018-07-30T18:10:04.020157Z"
    }
   },
   "outputs": [
    {
     "data": {
      "image/png": "[encoded data removed]",
      "text/plain": [
       "<Figure size 864x576 with 3 Axes>"
      ]
     },
     "metadata": {},
     "output_type": "display_data"
    }
   ],
   "source": [
    "clf = KNeighborsClassifier(1)\n",
    "clf.fit(X_train, y_train)\n",
    "\n",
    "x_mesh = make_mesh(X, step_size=0.1)\n",
    "X0 = x_mesh[0,:,0]\n",
    "X1 = x_mesh[:,1,1]\n",
    "pred_mesh = clf.predict(x_mesh.reshape(-1,2)).reshape(x_mesh.shape[:2])\n",
    "\n",
    "fig, ax = plt.subplots(figsize=(12,8))\n",
    "\n",
    "axim = ax.pcolor(X0, X1, pred_mesh, cmap=cm.get_cmap('Greys', 2))\n",
    "cax = fig.colorbar(axim)\n",
    "cax.set_label('predicted CRIM')\n",
    "cax.set_ticks([0.25,0.75])\n",
    "cax.set_ticklabels(['low', 'high'])\n",
    "\n",
    "axim2 = ax.scatter(X.NOX.values, X.RAD.values, c=y.values, s=5, cmap=cm.get_cmap('viridis', 2))\n",
    "cax2 = fig.colorbar(axim2)\n",
    "cax2.set_label('true CRIM')\n",
    "cax2.set_ticks([0.25,0.75])\n",
    "cax2.set_ticklabels(['low', 'high'])\n",
    "\n",
    "ax.set_xlabel('NOX')\n",
    "ax.set_ylabel('RAD')\n",
    "\n",
    "plt.show()"
   ]
  }
 ],
 "metadata": {
  "kernelspec": {
   "display_name": "Python 3",
   "language": "python",
   "name": "python3"
  },
  "language_info": {
   "codemirror_mode": {
    "name": "ipython",
    "version": 3
   },
   "file_extension": ".py",
   "mimetype": "text/x-python",
   "name": "python",
   "nbconvert_exporter": "python",
   "pygments_lexer": "ipython3",
   "version": "3.6.5"
  },
  "toc": {
   "base_numbering": 1,
   "nav_menu": {},
   "number_sections": false,
   "sideBar": false,
   "skip_h1_title": false,
   "title_cell": "Table of Contents",
   "title_sidebar": "Contents",
   "toc_cell": true,
   "toc_position": {},
   "toc_section_display": true,
   "toc_window_display": false
  }
 },
 "nbformat": 4,
 "nbformat_minor": 2
}
