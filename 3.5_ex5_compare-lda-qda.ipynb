{
 "cells": [
  {
   "cell_type": "markdown",
   "metadata": {},
   "source": [
    "# Objective compare LDA and QDA (based on ex5)\n",
    "How does the **linearity of Baysian decision boundary** and **sample size (n)** affect their respective performances on the **training** vs **test** sets?"
   ]
  },
  {
   "cell_type": "code",
   "execution_count": 127,
   "metadata": {},
   "outputs": [],
   "source": [
    "import numpy as np\n",
    "import matplotlib.pyplot as plt\n",
    "import matplotlib.cm as cm\n",
    "from matplotlib.patches import Patch\n",
    "from matplotlib.lines import Line2D\n",
    "from sklearn.datasets import make_blobs, make_gaussian_quantiles\n",
    "from sklearn.model_selection import train_test_split\n",
    "from sklearn.discriminant_analysis import LinearDiscriminantAnalysis, QuadraticDiscriminantAnalysis\n",
    "from ipywidgets import interactive\n",
    "from slm import viz, model"
   ]
  },
  {
   "cell_type": "markdown",
   "metadata": {},
   "source": [
    "# Compare single examples"
   ]
  },
  {
   "cell_type": "code",
   "execution_count": 57,
   "metadata": {},
   "outputs": [],
   "source": [
    "def gen_nonlinear_classification(nonlinearity=1, n_sample=100):\n",
    "    \n",
    "    X = np.random.normal(size=(n_sample,2))\n",
    "    beta = np.random.uniform(low=-1, high=1, size=5)\n",
    "    y = nonlinearity*beta[4]*X[:,0]**2 + nonlinearity*beta[3]*X[:,1]**2 + beta[2]*X[:,0] + beta[1]*X[:,1] + beta[0]\n",
    "    y = (y > np.median(y)).astype(int)\n",
    "    \n",
    "    return X, y"
   ]
  },
  {
   "cell_type": "code",
   "execution_count": 304,
   "metadata": {},
   "outputs": [
    {
     "data": {
      "application/vnd.jupyter.widget-view+json": {
       "model_id": "6af22a46b0c7466cbe6890247d44d41b",
       "version_major": 2,
       "version_minor": 0
      },
      "text/plain": [
       "interactive(children=(FloatSlider(value=0.0, description='nonlinearity', max=1.0), IntSlider(value=100, descri…"
      ]
     },
     "metadata": {},
     "output_type": "display_data"
    }
   ],
   "source": [
    "def plot_da(nonlinearity=0, n_sample=100):\n",
    "\n",
    "    X, y = gen_nonlinear_classification(nonlinearity, n_sample)\n",
    "    X_train, X_test, y_train, y_test = train_test_split(X, y, test_size=0.25)\n",
    "    \n",
    "    x_mesh = viz.make_mesh(X, step_size=0.1)\n",
    "    X0 = x_mesh[0,:,0]\n",
    "    X1 = x_mesh[:,1,1]\n",
    "    \n",
    "    fig, ax = plt.subplots(1,2, figsize=(12,6), sharex=True, sharey=True)\n",
    "    cmap = cm.get_cmap('RdBu', 2)\n",
    "    \n",
    "    for i, clf in enumerate([LinearDiscriminantAnalysis(), QuadraticDiscriminantAnalysis()]):\n",
    "\n",
    "        clf.fit(X_train, y_train)\n",
    "        train_error = model.error_rate(y_train, clf.predict(X_train))\n",
    "        test_error = model.error_rate(y_test, clf.predict(X_test))\n",
    "                                       \n",
    "        decision_boundary = clf.predict(x_mesh.reshape(-1,2)).reshape(x_mesh.shape[:2])\n",
    "    \n",
    "        ax[i].pcolor(X0, X1, decision_boundary, cmap=cmap, alpha=0.2)\n",
    "        ax[i].scatter(X[:,0], X[:,1], c=y, s=10, cmap=cmap)\n",
    "        ax[i].text(X0[0]+.2, X1[-1]-.1, 'train: {:.3}; test: {:.3}'.format(\\\n",
    "                                        1-train_error, 1-test_error),\\\n",
    "                   verticalalignment='top', fontsize=15)\n",
    "    \n",
    "    ax[0].set_xlim(X0[0], X0[-1])\n",
    "    ax[0].set_ylim(X1[0], X1[-1])\n",
    "    \n",
    "    ax[0].set_title('LDA')\n",
    "    ax[1].set_title('QDA')\n",
    "    \n",
    "    plt.show()\n",
    "    \n",
    "w = interactive(plot_da, nonlinearity=(0., 1.), n_sample=(20, 1000, 10))\n",
    "display(w)"
   ]
  },
  {
   "cell_type": "markdown",
   "metadata": {},
   "source": [
    "# Multiple runs to see dependence"
   ]
  },
  {
   "cell_type": "markdown",
   "metadata": {},
   "source": [
    "## Preprocess random data"
   ]
  },
  {
   "cell_type": "code",
   "execution_count": 172,
   "metadata": {},
   "outputs": [
    {
     "name": "stdout",
     "output_type": "stream",
     "text": [
      "CPU times: user 2min 14s, sys: 2.78 s, total: 2min 17s\n",
      "Wall time: 23.3 s\n"
     ]
    }
   ],
   "source": [
    "%%time\n",
    "\n",
    "NONLIN_RANGE = np.linspace(0, 1, 10)\n",
    "N_RANGE = np.logspace(4, 8, 10, base=2, dtype=int)\n",
    "TEST_SIZE  = 100\n",
    "\n",
    "nonlin_n_mat = np.zeros((4, TEST_SIZE, len(NONLIN_RANGE), len(N_RANGE)))\n",
    "\n",
    "for n, n_sample in enumerate(N_RANGE):\n",
    "\n",
    "    for m, nonlinearity in enumerate(NONLIN_RANGE):\n",
    "\n",
    "        for j in range(TEST_SIZE):\n",
    "\n",
    "            X, y = gen_nonlinear_classification(nonlinearity, n_sample)\n",
    "            X_train, X_test, y_train, y_test = train_test_split(X, y, test_size=0.25)\n",
    "\n",
    "            for i, clf in enumerate([LinearDiscriminantAnalysis(), QuadraticDiscriminantAnalysis()]):\n",
    "\n",
    "                clf.fit(X_train, y_train)\n",
    "                train_error = model.error_rate(y_train, clf.predict(X_train))\n",
    "                test_error = model.error_rate(y_test, clf.predict(X_test))\n",
    "\n",
    "                nonlin_n_mat[i*2,j,m,n] = train_error\n",
    "                nonlin_n_mat[i*2+1,j,m,n] = test_error"
   ]
  },
  {
   "cell_type": "code",
   "execution_count": 305,
   "metadata": {},
   "outputs": [
    {
     "data": {
      "application/vnd.jupyter.widget-view+json": {
       "model_id": "7792bfe0f7b24bcaa5c601a2c27415d5",
       "version_major": 2,
       "version_minor": 0
      },
      "text/plain": [
       "interactive(children=(IntSlider(value=6, description='slice', max=9), Output()), _dom_classes=('widget-interac…"
      ]
     },
     "metadata": {},
     "output_type": "display_data"
    },
    {
     "data": {
      "application/vnd.jupyter.widget-view+json": {
       "model_id": "b0064c7cdf0341508beb3a08bb43ae0b",
       "version_major": 2,
       "version_minor": 0
      },
      "text/plain": [
       "interactive(children=(IntSlider(value=5, description='slice', max=9), Output()), _dom_classes=('widget-interac…"
      ]
     },
     "metadata": {},
     "output_type": "display_data"
    }
   ],
   "source": [
    "def plot_nonlin_errors(slice=6):\n",
    "\n",
    "    clrs = ['Magenta', 'Magenta', 'LimeGreen', 'LimeGreen']\n",
    "    lss = ['-', '--', '-', '--']\n",
    "\n",
    "    legend_elements = [Patch(facecolor='LimeGreen', edgecolor='LimeGreen', label='QDA'),\n",
    "                       Patch(facecolor='Magenta', edgecolor='Magenta', label='LDA'),\n",
    "                       Line2D([0], [0], color='k', lw=1.5, ls='-', label='train'),\n",
    "                       Line2D([0], [0], color='k', lw=1.5, ls='--', label='test')]\n",
    "\n",
    "    fig, ax = plt.subplots()\n",
    "\n",
    "    for i, (mat, clr, ls) in enumerate(zip(nonlin_n_mat[:,:,:,slice], clrs, lss)):\n",
    "\n",
    "        mean = 1-np.mean(mat, axis=0)\n",
    "        std = np.std(mat, axis=0)\n",
    "        ax.plot(NONLIN_RANGE, mean, c=clr, linestyle=ls)\n",
    "        ax.fill_between(NONLIN_RANGE, mean-std, mean+std, alpha=0.1, color=clr)\n",
    "        if i%2==0:\n",
    "            ax.fill_between(NONLIN_RANGE, mean-std, mean+std, alpha=0.5, facecolor='none', edgecolor=clr, lw=1)\n",
    "\n",
    "    ax.legend(handles=legend_elements, loc='lower left', ncol=2)\n",
    "    ax.set_ylabel('Accuracy')\n",
    "    ax.set_xlabel('Nonlinearity')\n",
    "    ax.set_title('Sample size (n): {}'.format(N_RANGE[slice]))\n",
    "    ax.set_ylim(0.35, 1.05)\n",
    "    ax.axhline(1, c='k', lw=1)\n",
    "    plt.show()\n",
    "\n",
    "def plot_n_errors(slice=5):\n",
    "\n",
    "#     clrs = ['b', 'b', 'r', 'r']\n",
    "    lss = ['-', '--', '-', '--']\n",
    "    clrs = ['k', 'r']\n",
    "\n",
    "    legend_elements = [Line2D([0], [0], color='k', lw=1.5, ls='-', label='train'),\\\n",
    "                       Line2D([0], [0], color='r', lw=1.5, ls='-', label='test')]\n",
    "\n",
    "    fig, ax = plt.subplots(1)\n",
    "\n",
    "    for i, (mat, clr, ls) in enumerate(zip(nonlin_n_mat[:2,:,slice,:]-nonlin_n_mat[2:,:,slice,:], clrs, lss)):\n",
    "\n",
    "        mean = np.mean(mat, axis=0)\n",
    "        std = np.std(mat, axis=0)\n",
    "        ax.plot(N_RANGE, mean, color=clr)\n",
    "        ax.fill_between(N_RANGE, mean-std, mean+std, alpha=0.2, color=clr)\n",
    "#         ax[0].plot(N_RANGE, mean, c='k', linestyle=ls)\n",
    "#         ax[0].fill_between(N_RANGE, mean-std, mean+std, alpha=0.1, color='k')\n",
    "#         if i==0:\n",
    "#             ax[0].fill_between(N_RANGE, mean-std, mean+std, alpha=0.5, facecolor='none', edgecolor='k', lw=1)\n",
    "\n",
    "    ax.legend(handles=legend_elements, loc='upper right')\n",
    "    ax.set_ylabel('Difference in accuracy\\n($\\longleftarrow$ + LDA | QDA + $\\longrightarrow$)')\n",
    "    ax.set_xlabel('Sample size (n)\\n')\n",
    "    ax.set_title('Nonlinearity: {:.2}'.format(NONLIN_RANGE[slice]))\n",
    "    ax.set_ylim(-0.4, 0.4)\n",
    "    ax.axhline(0, c='k', lw=1, ls='--')\n",
    "    plt.show()\n",
    "\n",
    "\n",
    "w = interactive(plot_nonlin_errors, slice=(0, 9))\n",
    "display(w)\n",
    "\n",
    "w = interactive(plot_n_errors, slice=(0, 9))\n",
    "display(w)"
   ]
  },
  {
   "cell_type": "markdown",
   "metadata": {},
   "source": [
    "### If the Baysian decision boundary is linear, LDA and QDA perform similarly.\n",
    "### If the Baysian decision boundary becomes more nonlinear, the error rate of LDA increases, while QDA maintains a steady performance.\n",
    "### If the Baysian decision boundary is very linear, increase in sample size improve test error of both LDA and QDA."
   ]
  }
 ],
 "metadata": {
  "kernelspec": {
   "display_name": "Python 3",
   "language": "python",
   "name": "python3"
  },
  "language_info": {
   "codemirror_mode": {
    "name": "ipython",
    "version": 3
   },
   "file_extension": ".py",
   "mimetype": "text/x-python",
   "name": "python",
   "nbconvert_exporter": "python",
   "pygments_lexer": "ipython3",
   "version": "3.6.5"
  }
 },
 "nbformat": 4,
 "nbformat_minor": 2
}
